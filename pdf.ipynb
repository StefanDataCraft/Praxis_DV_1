{
 "cells": [
  {
   "cell_type": "code",
   "execution_count": 1,
   "outputs": [],
   "source": [
    "title_size = 20\n",
    "subtitle_size = 15\n",
    "text_size = 12"
   ],
   "metadata": {
    "collapsed": false
   }
  },
  {
   "cell_type": "code",
   "execution_count": 2,
   "metadata": {
    "collapsed": true
   },
   "outputs": [],
   "source": [
    "from fpdf import FPDF\n",
    "\n",
    "pdf = FPDF()\n",
    "pdf.add_page()\n",
    "pdf.set_font(family='Arial', size=12)\n",
    "\n",
    "class PDF(FPDF):\n",
    "    # mit super().__init__() erbt die neue Klasse alle Eigenschaften der Elternklasse\n",
    "    def __init__(self):\n",
    "        super().__init__()\n",
    "    def header(self):\n",
    "        self.set_font('Arial', style=\"B\", size=title_size)\n",
    "        self.cell(w=0, h=8, txt='Projekt Datenvisualisierung', border=0, align='C', ln=1)\n",
    "        self.set_font('Arial', style=\"B\", size=subtitle_size)\n",
    "        self.cell(w=0, h=8, txt='Name: Stefan Ronacher', border=0, align='L', ln=1)\n",
    "        self.image('datacraft_logo.png')\n",
    "        self.cell(w=0, h=10, ln=1)"
   ]
  },
  {
   "cell_type": "code",
   "execution_count": 13,
   "outputs": [],
   "source": [
    "pdf = PDF()\n",
    "pdf.add_page()\n",
    "\n",
    "pdf.set_font('Arial',size=title_size)\n",
    "pdf.cell(w=0, h=10, txt='Scatterplots', border=0, ln=1)\n",
    "\n",
    "pdf.set_font('Arial',size=subtitle_size)\n",
    "pdf.cell(w=0, h=10, txt='\\tBIP pro Kopf vs. Glücklichkeitswert', border=0, ln=1)\n",
    "pdf.set_font('Arial',size=subtitle_size)\n",
    "pdf.cell(w=0, h=10, txt='\\tSozialhilfe vs. Glücklichkeitswert', border=0, ln=1)\n",
    "pdf.set_font('Arial',size=subtitle_size)\n",
    "pdf.cell(w=0, h=10, txt='\\tGesunde Lebenserwartung vs. Glücklichkeitswert', border=0, ln=1)\n",
    "pdf.set_font('Arial',size=subtitle_size)\n",
    "pdf.cell(w=0, h=10, txt='\\tEntscheidungsfreiheit vs. Glücklichkeitswert', border=0, ln=1)\n",
    "pdf.set_font('Arial',size=subtitle_size)\n",
    "pdf.cell(w=0, h=10, txt='\\tGrosszügigkeit vs. Glücklichkeitswert', border=0, ln=1)\n",
    "pdf.set_font('Arial',size=subtitle_size)\n",
    "pdf.cell(w=0, h=10, txt='\\tWahrnehmungen von Korruption vs. Glücklichkeitswert', border=0, ln=1)\n",
    "pdf.set_font('Arial',size=title_size)\n",
    "\n",
    "\n",
    "pdf.cell(w=0, h=10, txt='Korrelationsmatrix', border=0, ln=1)\n",
    "\n",
    "pdf.cell(w=0, h=10, txt='Boxplot', border=0, ln=1)\n",
    "pdf.set_font('Arial',size=subtitle_size)\n",
    "pdf.cell(w=0, h=10, txt='\\tBoxplot der Glücklichkeitswerte nach Jahr.', border=0, ln=1)\n",
    "\n",
    "pdf.set_font('Arial',size=title_size)\n",
    "pdf.cell(w=0, h=10, txt='Kombiplot', border=0, ln=1)\n",
    "pdf.set_font('Arial',size=subtitle_size)\n",
    "pdf.cell(w=0, h=10, txt='\\tBIP pro Kopf und Glücklichkeitswert nach Jahr.  Grösse ist Lebenserwartung.', border=0, ln=1)\n",
    "pdf.set_font('Arial',size=title_size)\n",
    "pdf.cell(w=0, h=10, txt='Barplots mit Oberen und unteren Ländern', border=0, ln=1)\n",
    "\n",
    "pdf.cell(w=0, h=10, txt='Bubbleplots', border=0, ln=1)\n",
    "pdf.set_font('Arial',size=subtitle_size)\n",
    "pdf.cell(w=0, h=10, txt='\\tGlücklichkeitswerte, BIP pro Kopf und Lebenserwartung.  Grösse ist Grosszügigkeit.', border=0, ln=1)\n",
    "pdf.cell(w=0, h=10, txt='\\tEntscheidungsfreiheit und Rang nach Jahren. Grösse ist Glücklichkeitswert.', border=0, ln=1)\n",
    "pdf.set_font('Arial',size=title_size)\n",
    "pdf.cell(w=0, h=10, txt='Interactive plots', border=0, ln=1)\n",
    "pdf.set_font('Arial',size=subtitle_size)\n",
    "pdf.cell(w=0, h=10, txt='\\tLandkartenplots.', border=0, ln=1)\n",
    "pdf.set_font('Arial',size=title_size)\n",
    "pdf.cell(w=0, h=10, txt='Animierter plot', border=0, ln=1)\n",
    "pdf.set_font('Arial',size=subtitle_size)\n",
    "pdf.cell(w=0, h=10, txt='\\tGlücklichkeit nach BIP pro Kopf, Grosszügigkeit und Lebenserwartung.', border=0, ln=1)"
   ],
   "metadata": {
    "collapsed": false
   }
  },
  {
   "cell_type": "code",
   "execution_count": 14,
   "outputs": [
    {
     "data": {
      "text/plain": "''"
     },
     "execution_count": 14,
     "metadata": {},
     "output_type": "execute_result"
    }
   ],
   "source": [
    "pdf.output('Handout.pdf')"
   ],
   "metadata": {
    "collapsed": false
   }
  },
  {
   "cell_type": "code",
   "execution_count": 4,
   "outputs": [],
   "source": [],
   "metadata": {
    "collapsed": false
   }
  }
 ],
 "metadata": {
  "kernelspec": {
   "display_name": "Python 3",
   "language": "python",
   "name": "python3"
  },
  "language_info": {
   "codemirror_mode": {
    "name": "ipython",
    "version": 2
   },
   "file_extension": ".py",
   "mimetype": "text/x-python",
   "name": "python",
   "nbconvert_exporter": "python",
   "pygments_lexer": "ipython2",
   "version": "2.7.6"
  }
 },
 "nbformat": 4,
 "nbformat_minor": 0
}
